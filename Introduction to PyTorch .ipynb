{
 "cells": [
  {
   "cell_type": "code",
   "execution_count": 1,
   "metadata": {},
   "outputs": [],
   "source": [
    "import torch "
   ]
  },
  {
   "cell_type": "code",
   "execution_count": 3,
   "metadata": {},
   "outputs": [],
   "source": [
    "# Generating random data \n",
    "torch.manual_seed(8)  # fixing the random data for every run \n",
    "features = torch.randn((1,5))  # generating a 1x5 tensor containing random values from normal distribution\n",
    "weights = torch.randn_like(features) # function randn_like produces tensor of same shape as the input variable\n",
    "bias =torch.randn((1,1))"
   ]
  },
  {
   "cell_type": "code",
   "execution_count": 4,
   "metadata": {},
   "outputs": [
    {
     "name": "stdout",
     "output_type": "stream",
     "text": [
      "tensor([[0.0803]])\n"
     ]
    }
   ],
   "source": [
    "# Exercise to design and calculate the output of the neural networks using above weight and features\n",
    "#features = features.flatten()\n",
    "#weights =  weights.flatten()\n",
    "h =  torch.sum(features*weights) + bias\n",
    "out = sigmoid_activation(h)\n",
    "print(out)\n",
    "\n",
    "# Now using mattrix multiplication # torch.mamul supports broadcasting hence may give spurious output in manual error in shape assignment\n",
    "features = features.view(5,1)\n",
    "h = torch.mm(weights, features) +bias  #matrices size should be in agreement\n",
    "out = sigmoid_activation(h)"
   ]
  },
  {
   "cell_type": "code",
   "execution_count": 2,
   "metadata": {},
   "outputs": [],
   "source": [
    "def nn(weights,features,bias):\n",
    "    out= sigmoid_activation(torch.mm(weights,features) + bias)\n",
    "    return out"
   ]
  },
  {
   "cell_type": "code",
   "execution_count": 3,
   "metadata": {},
   "outputs": [],
   "source": [
    "def sigmoid_activation(x):\n",
    "    return 1/(1+torch.exp(-x))   # torch.exp is the tensor version of exp function which imput and output elements of tensor type "
   ]
  },
  {
   "cell_type": "code",
   "execution_count": 6,
   "metadata": {},
   "outputs": [
    {
     "name": "stdout",
     "output_type": "stream",
     "text": [
      "tensor([[0.2821],\n",
      "        [0.9840]]) tensor([[0.7264]])\n"
     ]
    }
   ],
   "source": [
    "# multi-layer neural net\n",
    "torch.manual_seed(10)\n",
    "features= torch.randn((1,3))\n",
    "\n",
    "#defining the size of each layer\n",
    "n_input= features.shape[1]\n",
    "n_hidden= 2\n",
    "n_out= 1\n",
    "\n",
    "#defining weights\n",
    "weights1 = torch.randn((n_hidden,n_input))\n",
    "weights2 = torch.randn((n_out,n_hidden))\n",
    "\n",
    "bias1= torch.randn((1,n_hidden))\n",
    "bias2= torch.randn((1,n_out))\n",
    "\n",
    "# forward pass using torch.mm\n",
    "out1= nn(weights1,features.T,bias1.T)\n",
    "out2= nn(weights2,out1,bias2.T)\n",
    "print (out1,out2)"
   ]
  },
  {
   "cell_type": "code",
   "execution_count": 9,
   "metadata": {},
   "outputs": [
    {
     "name": "stdout",
     "output_type": "stream",
     "text": [
      "[[0.42735335 0.92197733 0.98238046 0.13069527]\n",
      " [0.95221278 0.18855762 0.75948477 0.71073285]\n",
      " [0.62116921 0.06093111 0.54930865 0.13491466]\n",
      " [0.57545678 0.56869089 0.61090347 0.2128043 ]\n",
      " [0.60265387 0.62150924 0.70164005 0.49983654]] tensor([[0.4274, 0.9220, 0.9824, 0.1307],\n",
      "        [0.9522, 0.1886, 0.7595, 0.7107],\n",
      "        [0.6212, 0.0609, 0.5493, 0.1349],\n",
      "        [0.5755, 0.5687, 0.6109, 0.2128],\n",
      "        [0.6027, 0.6215, 0.7016, 0.4998]], dtype=torch.float64)\n",
      "[[0.85470669 1.84395467 1.96476092 0.26139054]\n",
      " [1.90442556 0.37711524 1.51896955 1.42146571]\n",
      " [1.24233841 0.12186222 1.09861731 0.26982931]\n",
      " [1.15091356 1.13738178 1.22180695 0.42560861]\n",
      " [1.20530773 1.24301849 1.40328009 0.99967309]] tensor([[0.8547, 1.8440, 1.9648, 0.2614],\n",
      "        [1.9044, 0.3771, 1.5190, 1.4215],\n",
      "        [1.2423, 0.1219, 1.0986, 0.2698],\n",
      "        [1.1509, 1.1374, 1.2218, 0.4256],\n",
      "        [1.2053, 1.2430, 1.4033, 0.9997]], dtype=torch.float64)\n",
      "[[0.85470669 1.84395467 1.96476092 0.26139054]\n",
      " [1.90442556 0.37711524 1.51896955 1.42146571]\n",
      " [1.24233841 0.12186222 1.09861731 0.26982931]\n",
      " [1.15091356 1.13738178 1.22180695 0.42560861]\n",
      " [1.20530773 1.24301849 1.40328009 0.99967309]]\n"
     ]
    }
   ],
   "source": [
    "# Bridging torch and numpy\n",
    "import numpy as np\n",
    "import torch\n",
    "\n",
    "a= np.random.rand(5,4)\n",
    "b= torch.from_numpy(a)\n",
    "print(a,b)\n",
    "b.mul_(2)\n",
    "print(a,b)\n",
    "print(b.numpy())"
   ]
  },
  {
   "cell_type": "code",
   "execution_count": null,
   "metadata": {},
   "outputs": [],
   "source": []
  }
 ],
 "metadata": {
  "kernelspec": {
   "display_name": "Python 3",
   "language": "python",
   "name": "python3"
  },
  "language_info": {
   "codemirror_mode": {
    "name": "ipython",
    "version": 3
   },
   "file_extension": ".py",
   "mimetype": "text/x-python",
   "name": "python",
   "nbconvert_exporter": "python",
   "pygments_lexer": "ipython3",
   "version": "3.7.8"
  }
 },
 "nbformat": 4,
 "nbformat_minor": 4
}
