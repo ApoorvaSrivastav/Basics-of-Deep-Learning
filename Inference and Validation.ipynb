{
 "cells": [
  {
   "cell_type": "code",
   "execution_count": 1,
   "metadata": {},
   "outputs": [],
   "source": [
    "# Import necessary packages\n",
    "\n",
    "%matplotlib inline\n",
    "%config InlineBackend.figure_format = 'retina'\n",
    "\n",
    "import numpy as np\n",
    "import torch\n",
    "import torch.nn as nn\n",
    "import torch.nn.functional as F\n",
    "import torch.optim as optim\n",
    "#import helper\n",
    "\n",
    "import matplotlib.pyplot as plt\n",
    "from torchvision import datasets , transforms"
   ]
  },
  {
   "cell_type": "code",
   "execution_count": 2,
   "metadata": {},
   "outputs": [],
   "source": [
    "#Loading and pre-processing the dataset \n",
    "\n",
    "# Define a transform to normalize the data\n",
    "transform = transforms.Compose([transforms.ToTensor(),\n",
    "                                transforms.Normalize((0.5,), (0.5,))])\n",
    "# Download and load the training data\n",
    "trainset = datasets.FashionMNIST('~/.pytorch/F_MNIST_data/', download=True, train=True, transform=transform)\n",
    "trainloader = torch.utils.data.DataLoader(trainset, batch_size=64, shuffle=True)\n",
    "\n",
    "# Download and load the test data\n",
    "testset = datasets.FashionMNIST('~/.pytorch/F_MNIST_data/', download=True, train=False, transform=transform)\n",
    "testloader = torch.utils.data.DataLoader(testset, batch_size=64, shuffle=True)"
   ]
  },
  {
   "cell_type": "code",
   "execution_count": 3,
   "metadata": {},
   "outputs": [],
   "source": [
    "device = torch.device(\"cuda:0\" if torch.cuda.is_available() else \"cpu\")"
   ]
  },
  {
   "cell_type": "code",
   "execution_count": 12,
   "metadata": {},
   "outputs": [],
   "source": [
    "#Model Definition\n",
    "class Net(nn.Module):\n",
    "    def __init__(self):\n",
    "        super().__init__()\n",
    "        # defining first hidden layer with output 1024\n",
    "        self.linear1 = nn.Linear(784,1024)\n",
    "        self.linear2 = nn.Linear(1024,512)\n",
    "        self.linear3 = nn.Linear(512,256)\n",
    "        self.linear4 = nn.Linear(256,128)\n",
    "        self.linear5 = nn.Linear(128,10)\n",
    "    \n",
    "    def forward(self,x):\n",
    "        x = x.view(x.shape[0],-1)\n",
    "        x = F.relu(self.linear1(x))\n",
    "        x = F.relu(self.linear2(x))\n",
    "        x = F.relu(self.linear3(x))\n",
    "        x = F.relu(self.linear4(x))\n",
    "        x = F.log_softmax(self.linear5(x),dim=1)\n",
    "        return x\n",
    "model= Net()\n",
    "criterion = nn.NLLLoss()\n",
    "optimizer = optim.SGD(model.parameters(),lr=0.01)"
   ]
  },
  {
   "cell_type": "code",
   "execution_count": 13,
   "metadata": {},
   "outputs": [
    {
     "name": "stdout",
     "output_type": "stream",
     "text": [
      "Average loss in Epoch: 1 tensor(1.5576, grad_fn=<DivBackward0>)\n",
      "Average loss in Epoch: 2 tensor(0.6485, grad_fn=<DivBackward0>)\n",
      "Average loss in Epoch: 3 tensor(0.5419, grad_fn=<DivBackward0>)\n",
      "Average loss in Epoch: 4 tensor(0.4836, grad_fn=<DivBackward0>)\n",
      "Average loss in Epoch: 5 tensor(0.4461, grad_fn=<DivBackward0>)\n",
      "Average loss in Epoch: 6 tensor(0.4181, grad_fn=<DivBackward0>)\n",
      "Average loss in Epoch: 7 tensor(0.3958, grad_fn=<DivBackward0>)\n",
      "Average loss in Epoch: 8 tensor(0.3757, grad_fn=<DivBackward0>)\n",
      "Average loss in Epoch: 9 tensor(0.3621, grad_fn=<DivBackward0>)\n",
      "Average loss in Epoch: 10 tensor(0.3476, grad_fn=<DivBackward0>)\n",
      "Average loss in Epoch: 11 tensor(0.3356, grad_fn=<DivBackward0>)\n",
      "Average loss in Epoch: 12 tensor(0.3244, grad_fn=<DivBackward0>)\n",
      "Average loss in Epoch: 13 tensor(0.3143, grad_fn=<DivBackward0>)\n",
      "Average loss in Epoch: 14 tensor(0.3053, grad_fn=<DivBackward0>)\n",
      "Average loss in Epoch: 15 tensor(0.2970, grad_fn=<DivBackward0>)\n"
     ]
    }
   ],
   "source": [
    "# Epoch definition\n",
    "Epochs=15\n",
    "for i in range(Epochs):\n",
    "    running_loss=0\n",
    "    for images,labels in trainloader:\n",
    "        #images =images.to(device)\n",
    "        #labels =labels.to(device)\n",
    "        optimizer.zero_grad()\n",
    "        output = model.forward(images)\n",
    "        loss = criterion(output,labels)\n",
    "        loss.backward()\n",
    "        running_loss += loss\n",
    "        optimizer.step()\n",
    "    print(\"Average loss in Epoch:\",i+1,running_loss/len(trainloader))"
   ]
  },
  {
   "cell_type": "code",
   "execution_count": 16,
   "metadata": {},
   "outputs": [
    {
     "name": "stdout",
     "output_type": "stream",
     "text": [
      "torch.Size([64, 10])\n",
      "Validation Accuracy is 89.0625 %\n"
     ]
    }
   ],
   "source": [
    "#Testing Accuracy on the Validation set \n",
    "test_iter = iter(testloader)\n",
    "images,labels = test_iter.next()\n",
    "ps = torch.exp(model(images))\n",
    "print(ps.shape)\n",
    "max_score,pred_class = ps.topk(1,dim=1) #the first argument is k and topk method returns first k top values and their corresponding indices\n",
    "\n",
    "equals = pred_class.squeeze() == labels #shape of labels is 64 while pred_class is (64,1) hence making same for elememt-wise comparision \n",
    "print (\"Validation Accuracy is\",torch.mean(equals.type(torch.FloatTensor)).item()*100,\"%\") #converting type of equals from boolean to float to calculate the mean "
   ]
  },
  {
   "cell_type": "code",
   "execution_count": 17,
   "metadata": {},
   "outputs": [
    {
     "name": "stdout",
     "output_type": "stream",
     "text": [
      "Validation Accuracy is 87.58957006369427 %\n"
     ]
    }
   ],
   "source": [
    "#Calculating Accuracy for whole Validation set\n",
    "accuracy=[] \n",
    "for images,labels in testloader:\n",
    "    ps = torch.exp(model(images))\n",
    "    max_score,pred_class=ps.topk(1,dim=1)\n",
    "    \n",
    "    equals =  pred_class.squeeze() == labels\n",
    "    accuracy.append(torch.mean(equals.type(torch.FloatTensor)).item()*100)\n",
    "Validation_Accuracy = sum(accuracy)/len(accuracy)\n",
    "print(\"Validation Accuracy is\",Validation_Accuracy,\"%\")"
   ]
  },
  {
   "cell_type": "code",
   "execution_count": 18,
   "metadata": {},
   "outputs": [
    {
     "name": "stdout",
     "output_type": "stream",
     "text": [
      "[90.625, 78.125, 82.8125, 87.5, 81.25, 84.375, 89.0625, 87.5, 81.25, 90.625, 92.1875, 84.375, 90.625, 85.9375, 85.9375, 85.9375, 90.625, 82.8125, 93.75, 96.875, 84.375, 81.25, 81.25, 90.625, 82.8125, 87.5, 92.1875, 81.25, 90.625, 92.1875, 85.9375, 95.3125, 82.8125, 89.0625, 90.625, 96.875, 82.8125, 85.9375, 95.3125, 87.5, 87.5, 76.5625, 92.1875, 90.625, 92.1875, 90.625, 82.8125, 81.25, 81.25, 89.0625, 85.9375, 85.9375, 90.625, 89.0625, 82.8125, 93.75, 81.25, 87.5, 87.5, 82.8125, 81.25, 85.9375, 82.8125, 92.1875, 87.5, 90.625, 93.75, 84.375, 87.5, 82.8125, 82.8125, 92.1875, 90.625, 82.8125, 89.0625, 92.1875, 87.5, 90.625, 84.375, 92.1875, 85.9375, 92.1875, 85.9375, 81.25, 92.1875, 89.0625, 81.25, 82.8125, 87.5, 82.8125, 87.5, 85.9375, 92.1875, 92.1875, 87.5, 87.5, 93.75, 85.9375, 81.25, 92.1875, 82.8125, 90.625, 78.125, 92.1875, 87.5, 93.75, 78.125, 79.6875, 82.8125, 85.9375, 87.5, 87.5, 92.1875, 90.625, 93.75, 92.1875, 87.5, 93.75, 92.1875, 89.0625, 92.1875, 89.0625, 92.1875, 90.625, 82.8125, 81.25, 95.3125, 84.375, 90.625, 87.5, 85.9375, 87.5, 90.625, 85.9375, 93.75, 81.25, 90.625, 84.375, 84.375, 89.0625, 87.5, 84.375, 92.1875, 82.8125, 84.375, 85.9375, 92.1875, 87.5, 92.1875, 93.75, 87.5, 95.3125, 82.8125, 90.625, 89.0625, 89.0625, 87.5]\n"
     ]
    }
   ],
   "source": [
    "print(accuracy)"
   ]
  },
  {
   "cell_type": "code",
   "execution_count": 22,
   "metadata": {},
   "outputs": [
    {
     "name": "stdout",
     "output_type": "stream",
     "text": [
      "Epoch: 1/50.. Training Loss: 0.025.. Test Loss: 0.013.. Test_Accuracy: 0.697..\n",
      "Epoch: 2/50.. Training Loss: 0.010.. Test Loss: 0.010.. Test_Accuracy: 0.765..\n",
      "Epoch: 3/50.. Training Loss: 0.009.. Test Loss: 0.009.. Test_Accuracy: 0.798..\n",
      "Epoch: 4/50.. Training Loss: 0.008.. Test Loss: 0.008.. Test_Accuracy: 0.810..\n",
      "Epoch: 5/50.. Training Loss: 0.007.. Test Loss: 0.008.. Test_Accuracy: 0.809..\n",
      "Epoch: 6/50.. Training Loss: 0.007.. Test Loss: 0.009.. Test_Accuracy: 0.786..\n",
      "Epoch: 7/50.. Training Loss: 0.006.. Test Loss: 0.007.. Test_Accuracy: 0.834..\n",
      "Epoch: 8/50.. Training Loss: 0.006.. Test Loss: 0.006.. Test_Accuracy: 0.854..\n",
      "Epoch: 9/50.. Training Loss: 0.006.. Test Loss: 0.006.. Test_Accuracy: 0.849..\n",
      "Epoch: 10/50.. Training Loss: 0.005.. Test Loss: 0.006.. Test_Accuracy: 0.855..\n",
      "Epoch: 11/50.. Training Loss: 0.005.. Test Loss: 0.006.. Test_Accuracy: 0.852..\n",
      "Epoch: 12/50.. Training Loss: 0.005.. Test Loss: 0.007.. Test_Accuracy: 0.856..\n",
      "Epoch: 13/50.. Training Loss: 0.005.. Test Loss: 0.006.. Test_Accuracy: 0.864..\n",
      "Epoch: 14/50.. Training Loss: 0.005.. Test Loss: 0.006.. Test_Accuracy: 0.875..\n",
      "Epoch: 15/50.. Training Loss: 0.005.. Test Loss: 0.006.. Test_Accuracy: 0.872..\n",
      "Epoch: 16/50.. Training Loss: 0.005.. Test Loss: 0.006.. Test_Accuracy: 0.872..\n",
      "Epoch: 17/50.. Training Loss: 0.004.. Test Loss: 0.006.. Test_Accuracy: 0.857..\n",
      "Epoch: 18/50.. Training Loss: 0.004.. Test Loss: 0.006.. Test_Accuracy: 0.848..\n",
      "Epoch: 19/50.. Training Loss: 0.004.. Test Loss: 0.006.. Test_Accuracy: 0.878..\n",
      "Epoch: 20/50.. Training Loss: 0.004.. Test Loss: 0.005.. Test_Accuracy: 0.883..\n",
      "Epoch: 21/50.. Training Loss: 0.004.. Test Loss: 0.006.. Test_Accuracy: 0.874..\n",
      "Epoch: 22/50.. Training Loss: 0.004.. Test Loss: 0.006.. Test_Accuracy: 0.868..\n",
      "Epoch: 23/50.. Training Loss: 0.004.. Test Loss: 0.005.. Test_Accuracy: 0.885..\n",
      "Epoch: 24/50.. Training Loss: 0.004.. Test Loss: 0.005.. Test_Accuracy: 0.884..\n",
      "Epoch: 25/50.. Training Loss: 0.004.. Test Loss: 0.006.. Test_Accuracy: 0.872..\n",
      "Epoch: 26/50.. Training Loss: 0.003.. Test Loss: 0.006.. Test_Accuracy: 0.872..\n",
      "Epoch: 27/50.. Training Loss: 0.003.. Test Loss: 0.005.. Test_Accuracy: 0.885..\n",
      "Epoch: 28/50.. Training Loss: 0.003.. Test Loss: 0.006.. Test_Accuracy: 0.875..\n",
      "Epoch: 29/50.. Training Loss: 0.003.. Test Loss: 0.005.. Test_Accuracy: 0.883..\n",
      "Epoch: 30/50.. Training Loss: 0.003.. Test Loss: 0.006.. Test_Accuracy: 0.877..\n",
      "Epoch: 31/50.. Training Loss: 0.003.. Test Loss: 0.006.. Test_Accuracy: 0.865..\n",
      "Epoch: 32/50.. Training Loss: 0.003.. Test Loss: 0.005.. Test_Accuracy: 0.889..\n",
      "Epoch: 33/50.. Training Loss: 0.003.. Test Loss: 0.005.. Test_Accuracy: 0.890..\n",
      "Epoch: 34/50.. Training Loss: 0.003.. Test Loss: 0.005.. Test_Accuracy: 0.889..\n",
      "Epoch: 35/50.. Training Loss: 0.003.. Test Loss: 0.006.. Test_Accuracy: 0.872..\n",
      "Epoch: 36/50.. Training Loss: 0.003.. Test Loss: 0.006.. Test_Accuracy: 0.882..\n",
      "Epoch: 37/50.. Training Loss: 0.002.. Test Loss: 0.006.. Test_Accuracy: 0.882..\n",
      "Epoch: 38/50.. Training Loss: 0.002.. Test Loss: 0.006.. Test_Accuracy: 0.881..\n",
      "Epoch: 39/50.. Training Loss: 0.002.. Test Loss: 0.007.. Test_Accuracy: 0.863..\n",
      "Epoch: 40/50.. Training Loss: 0.002.. Test Loss: 0.006.. Test_Accuracy: 0.882..\n",
      "Epoch: 41/50.. Training Loss: 0.002.. Test Loss: 0.006.. Test_Accuracy: 0.880..\n",
      "Epoch: 42/50.. Training Loss: 0.002.. Test Loss: 0.006.. Test_Accuracy: 0.883..\n",
      "Epoch: 43/50.. Training Loss: 0.002.. Test Loss: 0.006.. Test_Accuracy: 0.871..\n",
      "Epoch: 44/50.. Training Loss: 0.002.. Test Loss: 0.009.. Test_Accuracy: 0.838..\n",
      "Epoch: 45/50.. Training Loss: 0.002.. Test Loss: 0.006.. Test_Accuracy: 0.887..\n",
      "Epoch: 46/50.. Training Loss: 0.002.. Test Loss: 0.007.. Test_Accuracy: 0.880..\n",
      "Epoch: 47/50.. Training Loss: 0.002.. Test Loss: 0.006.. Test_Accuracy: 0.883..\n",
      "Epoch: 48/50.. Training Loss: 0.002.. Test Loss: 0.007.. Test_Accuracy: 0.869..\n",
      "Epoch: 49/50.. Training Loss: 0.002.. Test Loss: 0.007.. Test_Accuracy: 0.880..\n",
      "Epoch: 50/50.. Training Loss: 0.002.. Test Loss: 0.006.. Test_Accuracy: 0.882..\n"
     ]
    }
   ],
   "source": [
    "# Implementation by Udacity\n",
    "\n",
    "model= Net()\n",
    "criterion = nn.NLLLoss()\n",
    "optimizer = optim.SGD(model.parameters(),lr=0.01)\n",
    "\n",
    "Epochs=50\n",
    "train_losses,test_losses = [],[]\n",
    "for i in range(Epochs):\n",
    "    tot_train_loss=0\n",
    "    for images,labels in trainloader:\n",
    "        #images =images.to(device)\n",
    "        #labels =labels.to(device)\n",
    "        optimizer.zero_grad()\n",
    "        output = model.forward(images)\n",
    "        loss = criterion(output,labels)\n",
    "        loss.backward()\n",
    "        tot_train_loss += loss\n",
    "        optimizer.step()\n",
    "    else:\n",
    "        tot_test_loss = 0\n",
    "        test_correct = 0\n",
    "        \n",
    "        with torch.no_grad(): #By turning the gradients off we save the memory and computations\n",
    "            for images,labels in testloader:\n",
    "                log_ps = model(images)\n",
    "                loss = criterion(log_ps,labels)\n",
    "                tot_test_loss += loss.item()\n",
    "                \n",
    "                ps = torch.exp(model(images))\n",
    "                max_score,pred_class=ps.topk(1,dim=1)\n",
    "                equals =  pred_class.squeeze() == labels\n",
    "                test_correct += equals.sum().item()\n",
    "        #On Epoch Completion for train and test set \n",
    "        \n",
    "        # Calculate mean loss for train and test set for this epoch\n",
    "        train_loss = tot_train_loss/len(trainloader.dataset)\n",
    "        test_loss = tot_test_loss/len(testloader.dataset)\n",
    "        \n",
    "        #Store the losses in the list \n",
    "        train_losses.append(train_loss)\n",
    "        test_losses.append(test_loss)\n",
    "        \n",
    "        print(\"Epoch: {}/{}..\".format(i+1,Epochs),\n",
    "              \"Training Loss: {:.3f}..\".format(train_loss),\n",
    "              \"Test Loss: {:.3f}..\".format(test_loss),\n",
    "              \"Test_Accuracy: {:.3f}..\".format(test_correct/len(testloader.dataset)))\n",
    "              \n",
    "       "
   ]
  },
  {
   "cell_type": "markdown",
   "metadata": {},
   "source": [
    "## Overfitting"
   ]
  },
  {
   "cell_type": "code",
   "execution_count": 23,
   "metadata": {},
   "outputs": [
    {
     "data": {
      "text/plain": [
       "<matplotlib.legend.Legend at 0x23b954cfe48>"
      ]
     },
     "execution_count": 23,
     "metadata": {},
     "output_type": "execute_result"
    },
    {
     "data": {
      "image/png": "[encoded data removed]",
      "text/plain": [
       "<Figure size 432x288 with 1 Axes>"
      ]
     },
     "metadata": {
      "image/png": {
       "height": 248,
       "width": 384
      },
      "needs_background": "light"
     },
     "output_type": "display_data"
    }
   ],
   "source": [
    "import matplotlib.pyplot as plt\n",
    "\n",
    "plt.plot(train_losses, label=\"Training Loss\")\n",
    "plt.plot(test_losses, label=\"Test Loss\")\n",
    "plt.legend(frameon=False)"
   ]
  },
  {
   "cell_type": "markdown",
   "metadata": {},
   "source": [
    " For early stopping we do nothing we just save models and choose the model which has lowest validation losss"
   ]
  },
  {
   "cell_type": "markdown",
   "metadata": {},
   "source": [
    "# Dropout "
   ]
  },
  {
   "cell_type": "code",
   "execution_count": 3,
   "metadata": {},
   "outputs": [],
   "source": [
    "#Model Definition\n",
    "class Net_dropout(nn.Module):\n",
    "    def __init__(self):\n",
    "        super().__init__()\n",
    "        # defining first hidden layer with output 1024\n",
    "        self.linear1 = nn.Linear(784,1024)\n",
    "        self.linear2 = nn.Linear(1024,512)\n",
    "        self.linear3 = nn.Linear(512,256)\n",
    "        self.linear4 = nn.Linear(256,128)\n",
    "        self.linear5 = nn.Linear(128,10)\n",
    "        \n",
    "        self.dropout = nn.Dropout(p=0.5)\n",
    "    \n",
    "    def forward(self,x):\n",
    "        x = x.view(x.shape[0],-1)\n",
    "        x = self.dropout(F.relu(self.linear1(x)))\n",
    "        x = self.dropout(F.relu(self.linear2(x)))\n",
    "        x = self.dropout(F.relu(self.linear3(x)))\n",
    "        x = self.dropout(F.relu(self.linear4(x)))\n",
    "        x = F.log_softmax(self.linear5(x),dim=1)\n",
    "        return x\n",
    "model= Net_dropout()\n",
    "criterion = nn.NLLLoss()\n",
    "optimizer = optim.SGD(model.parameters(),lr=0.01)"
   ]
  },
  {
   "cell_type": "code",
   "execution_count": 4,
   "metadata": {},
   "outputs": [
    {
     "name": "stdout",
     "output_type": "stream",
     "text": [
      "Epoch: 1/2.. Training Loss: 0.032.. Test Loss: 0.020.. Test_Accuracy: 0.536..\n",
      "Epoch: 2/2.. Training Loss: 0.018.. Test Loss: 0.013.. Test_Accuracy: 0.695..\n"
     ]
    }
   ],
   "source": [
    "#Training and Testing Epochs\n",
    "Epochs=2\n",
    "train_losses,test_losses = [],[]\n",
    "for i in range(Epochs):\n",
    "    tot_train_loss=0\n",
    "    for images,labels in trainloader:\n",
    "        #images =images.to(device)\n",
    "        #labels =labels.to(device)\n",
    "        optimizer.zero_grad()\n",
    "        output = model.forward(images)\n",
    "        loss = criterion(output,labels)\n",
    "        loss.backward()\n",
    "        tot_train_loss += loss\n",
    "        optimizer.step()\n",
    "    else:\n",
    "        tot_test_loss = 0\n",
    "        test_correct = 0\n",
    "        \n",
    "        with torch.no_grad(): #By turning the gradients off we save the memory and computations\n",
    "            model.eval()  # To make the network aware of the dropouts to be nullified in testing\n",
    "            for images,labels in testloader:\n",
    "                log_ps = model(images)\n",
    "                loss = criterion(log_ps,labels)\n",
    "                tot_test_loss += loss.item()\n",
    "                \n",
    "                ps = torch.exp(model(images))\n",
    "                max_score,pred_class=ps.topk(1,dim=1)\n",
    "                equals =  pred_class.squeeze() == labels\n",
    "                test_correct += equals.sum().item()\n",
    "        #On Epoch Completion for train and test set \n",
    "        \n",
    "        # Calculate mean loss for train and test set for this epoch\n",
    "        train_loss = tot_train_loss/len(trainloader.dataset)\n",
    "        test_loss = tot_test_loss/len(testloader.dataset)\n",
    "        \n",
    "        #Store the losses in the list \n",
    "        train_losses.append(train_loss)\n",
    "        test_losses.append(test_loss)\n",
    "        \n",
    "        print(\"Epoch: {}/{}..\".format(i+1,Epochs),\n",
    "              \"Training Loss: {:.3f}..\".format(train_loss),\n",
    "              \"Test Loss: {:.3f}..\".format(test_loss),\n",
    "              \"Test_Accuracy: {:.3f}..\".format(test_correct/len(testloader.dataset)))\n",
    "        model.train()  #To make model again in training mode to apply dropout"
   ]
  },
  {
   "cell_type": "code",
   "execution_count": 5,
   "metadata": {},
   "outputs": [
    {
     "data": {
      "text/plain": [
       "<matplotlib.legend.Legend at 0x2051b890d48>"
      ]
     },
     "execution_count": 5,
     "metadata": {},
     "output_type": "execute_result"
    },
    {
     "data": {
      "image/png": "[encoded data removed]",
      "text/plain": [
       "<Figure size 432x288 with 1 Axes>"
      ]
     },
     "metadata": {
      "image/png": {
       "height": 251,
       "width": 391
      },
      "needs_background": "light"
     },
     "output_type": "display_data"
    }
   ],
   "source": [
    "import matplotlib.pyplot as plt\n",
    "\n",
    "plt.plot(train_losses, label=\"Training Loss\")\n",
    "plt.plot(test_losses, label=\"Test Loss\")\n",
    "plt.legend(frameon=False)"
   ]
  },
  {
   "cell_type": "code",
   "execution_count": 6,
   "metadata": {},
   "outputs": [
    {
     "name": "stdout",
     "output_type": "stream",
     "text": [
      "Trained Model::\n",
      "\n",
      " Net_dropout(\n",
      "  (linear1): Linear(in_features=784, out_features=1024, bias=True)\n",
      "  (linear2): Linear(in_features=1024, out_features=512, bias=True)\n",
      "  (linear3): Linear(in_features=512, out_features=256, bias=True)\n",
      "  (linear4): Linear(in_features=256, out_features=128, bias=True)\n",
      "  (linear5): Linear(in_features=128, out_features=10, bias=True)\n",
      "  (dropout): Dropout(p=0.5, inplace=False)\n",
      ")\n",
      "State dict keys are: \n",
      "\n",
      " odict_keys(['linear1.weight', 'linear1.bias', 'linear2.weight', 'linear2.bias', 'linear3.weight', 'linear3.bias', 'linear4.weight', 'linear4.bias', 'linear5.weight', 'linear5.bias'])\n"
     ]
    }
   ],
   "source": [
    "print(\"Trained Model::\\n\\n\",model)\n",
    "print(\"State dict keys are: \\n\\n\",model.state_dict().keys())\n"
   ]
  },
  {
   "cell_type": "code",
   "execution_count": 7,
   "metadata": {},
   "outputs": [
    {
     "data": {
      "text/plain": [
       "<All keys matched successfully>"
      ]
     },
     "execution_count": 7,
     "metadata": {},
     "output_type": "execute_result"
    }
   ],
   "source": [
    "# Saving and retrieving the model\n",
    "torch.save(model.state_dict(),'check_point1.pth')\n",
    "\n",
    "state = torch.load('check_point1.pth')\n",
    "\n",
    "model.load_state_dict(state)\n",
    "# loading to model occurs only if the architecture of the model is completely same as the model being loaded"
   ]
  },
  {
   "cell_type": "code",
   "execution_count": 8,
   "metadata": {},
   "outputs": [
    {
     "ename": "AttributeError",
     "evalue": "'Net_dropout' object has no attribute 'hidden_layers'",
     "output_type": "error",
     "traceback": [
      "\u001b[1;31m---------------------------------------------------------------------------\u001b[0m",
      "\u001b[1;31mAttributeError\u001b[0m                            Traceback (most recent call last)",
      "\u001b[1;32m<ipython-input-8-7a46d411a60f>\u001b[0m in \u001b[0;36m<module>\u001b[1;34m\u001b[0m\n\u001b[0;32m      2\u001b[0m checkpoint = {'input_size': 784,\n\u001b[0;32m      3\u001b[0m               \u001b[1;34m'output_size'\u001b[0m\u001b[1;33m:\u001b[0m \u001b[1;36m10\u001b[0m\u001b[1;33m,\u001b[0m\u001b[1;33m\u001b[0m\u001b[1;33m\u001b[0m\u001b[0m\n\u001b[1;32m----> 4\u001b[1;33m               \u001b[1;34m'hidden_layers'\u001b[0m\u001b[1;33m:\u001b[0m \u001b[1;33m[\u001b[0m\u001b[0meach\u001b[0m\u001b[1;33m.\u001b[0m\u001b[0mout_features\u001b[0m \u001b[1;32mfor\u001b[0m \u001b[0meach\u001b[0m \u001b[1;32min\u001b[0m \u001b[0mmodel\u001b[0m\u001b[1;33m.\u001b[0m\u001b[0mhidden_layers\u001b[0m\u001b[1;33m]\u001b[0m\u001b[1;33m,\u001b[0m\u001b[1;33m\u001b[0m\u001b[1;33m\u001b[0m\u001b[0m\n\u001b[0m\u001b[0;32m      5\u001b[0m               'state_dict': model.state_dict()}\n\u001b[0;32m      6\u001b[0m \u001b[1;33m\u001b[0m\u001b[0m\n",
      "\u001b[1;32m~\\Anaconda3\\lib\\site-packages\\torch\\nn\\modules\\module.py\u001b[0m in \u001b[0;36m__getattr__\u001b[1;34m(self, name)\u001b[0m\n\u001b[0;32m    574\u001b[0m                 \u001b[1;32mreturn\u001b[0m \u001b[0mmodules\u001b[0m\u001b[1;33m[\u001b[0m\u001b[0mname\u001b[0m\u001b[1;33m]\u001b[0m\u001b[1;33m\u001b[0m\u001b[1;33m\u001b[0m\u001b[0m\n\u001b[0;32m    575\u001b[0m         raise AttributeError(\"'{}' object has no attribute '{}'\".format(\n\u001b[1;32m--> 576\u001b[1;33m             type(self).__name__, name))\n\u001b[0m\u001b[0;32m    577\u001b[0m \u001b[1;33m\u001b[0m\u001b[0m\n\u001b[0;32m    578\u001b[0m     \u001b[1;32mdef\u001b[0m \u001b[0m__setattr__\u001b[0m\u001b[1;33m(\u001b[0m\u001b[0mself\u001b[0m\u001b[1;33m,\u001b[0m \u001b[0mname\u001b[0m\u001b[1;33m,\u001b[0m \u001b[0mvalue\u001b[0m\u001b[1;33m)\u001b[0m\u001b[1;33m:\u001b[0m\u001b[1;33m\u001b[0m\u001b[1;33m\u001b[0m\u001b[0m\n",
      "\u001b[1;31mAttributeError\u001b[0m: 'Net_dropout' object has no attribute 'hidden_layers'"
     ]
    }
   ],
   "source": [
    "# For Defining a model to match with a given checkpoint\n",
    "checkpoint = {'input_size': 784,\n",
    "              'output_size': 10,\n",
    "              'hidden_layers': [each.out_features for each in model.hidden_layers],\n",
    "              'state_dict': model.state_dict()}\n",
    "\n",
    "torch.save(checkpoint, 'checkpoint.pth')"
   ]
  },
  {
   "cell_type": "code",
   "execution_count": 9,
   "metadata": {},
   "outputs": [],
   "source": [
    "def load_checkpoint(filepath):\n",
    "    checkpoint = torch.load(filepath)\n",
    "    model = fc_model.Network(checkpoint['input_size'],\n",
    "                             checkpoint['output_size'],\n",
    "                             checkpoint['hidden_layers'])\n",
    "    model.load_state_dict(checkpoint['state_dict'])\n",
    "    \n",
    "    return model\n",
    "model = load_checkpoint('checkpoint.pth')\n",
    "print(model)"
   ]
  },
  {
   "cell_type": "code",
   "execution_count": null,
   "metadata": {},
   "outputs": [],
   "source": []
  }
 ],
 "metadata": {
  "kernelspec": {
   "display_name": "Python 3",
   "language": "python",
   "name": "python3"
  },
  "language_info": {
   "codemirror_mode": {
    "name": "ipython",
    "version": 3
   },
   "file_extension": ".py",
   "mimetype": "text/x-python",
   "name": "python",
   "nbconvert_exporter": "python",
   "pygments_lexer": "ipython3",
   "version": "3.7.8"
  }
 },
 "nbformat": 4,
 "nbformat_minor": 4
}
