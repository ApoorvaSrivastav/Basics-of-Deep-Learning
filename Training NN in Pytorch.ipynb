{
 "cells": [
  {
   "cell_type": "code",
   "execution_count": 6,
   "metadata": {},
   "outputs": [],
   "source": [
    "# Import necessary packages\n",
    "\n",
    "%matplotlib inline\n",
    "%config InlineBackend.figure_format = 'retina'\n",
    "\n",
    "import numpy as np\n",
    "import torch\n",
    "import torch.nn as nn\n",
    "import torch.nn.functional as F\n",
    "#import helper\n",
    "\n",
    "import matplotlib.pyplot as plt"
   ]
  },
  {
   "cell_type": "code",
   "execution_count": 7,
   "metadata": {},
   "outputs": [],
   "source": [
    "# The MNIST datasets are hosted on yann.lecun.com that has moved under CloudFlare protection\n",
    "# Run this script to enable the datasets download\n",
    "# Reference: https://github.com/pytorch/vision/issues/1938\n",
    "\n",
    "from six.moves import urllib\n",
    "opener = urllib.request.build_opener()\n",
    "opener.addheaders = [('User-agent', 'Mozilla/5.0')]\n",
    "urllib.request.install_opener(opener)"
   ]
  },
  {
   "cell_type": "code",
   "execution_count": 8,
   "metadata": {},
   "outputs": [],
   "source": [
    "from torchvision import datasets, transforms   #torchvision has datasets related to CV\n",
    "# define a transform to normalize/pre-process the data\n",
    "transform = transforms.Compose([transforms.ToTensor(),transforms.Normalize((0.5,),(0.5,)),])\n",
    "\n",
    "# Download and divide data into batches\n",
    "train_data = datasets.MNIST('~/.pytorch/MNIST_data/',download=True,train=True,transform=transform)\n",
    "trainloader = torch.utils.data.DataLoader(train_data,batch_size=64,shuffle=True) #converts data into batches\n"
   ]
  },
  {
   "cell_type": "code",
   "execution_count": 9,
   "metadata": {},
   "outputs": [
    {
     "name": "stdout",
     "output_type": "stream",
     "text": [
      "tensor(2.3057, grad_fn=<NllLossBackward>)\n"
     ]
    }
   ],
   "source": [
    "# Losses are provided using criterion varible as a convention. For Classification problem we use \n",
    "# Cross Entropy loss which in pytorch takes care of Softmax itself so we need to provide the raw values\n",
    "# Cross entropy is a combination of Softmax loss and negative log likelihood loss\n",
    "input_size = 784\n",
    "hidden_layer_sizes = [128,64]\n",
    "output_size = 10\n",
    "\n",
    "model = nn.Sequential(nn.Linear(input_size,hidden_layer_sizes[0]),nn.ReLU(),\n",
    "                     nn.Linear(hidden_layer_sizes[0],hidden_layer_sizes[1]), nn.ReLU(),\n",
    "                     nn.Linear(hidden_layer_sizes[1],output_size))\n",
    "criterion = nn.CrossEntropyLoss()\n",
    "# forward pass \n",
    "train_data_iter = iter(trainloader)\n",
    "images, labels = train_data_iter.next()\n",
    "images.resize_(images.shape[0],784)\n",
    "probabs = model.forward(images)\n",
    "\n",
    "Loss= criterion(probabs,labels)\n",
    "print(Loss)"
   ]
  },
  {
   "cell_type": "markdown",
   "metadata": {},
   "source": [
    "Exercise: Build a model that returns the log-softmax as the output and calculate the loss using the negative log likelihood loss. Note that for nn.LogSoftmax and F.log_softmax you'll need to set the dim keyword argument appropriately. dim=0 calculates softmax across the rows, so each column sums to 1, while dim=1 calculates across the columns so each row sums to 1. Think about what you want the output to be and choose dim appropriately."
   ]
  },
  {
   "cell_type": "code",
   "execution_count": 18,
   "metadata": {},
   "outputs": [
    {
     "name": "stdout",
     "output_type": "stream",
     "text": [
      "tensor(2.3021, grad_fn=<NllLossBackward>)\n"
     ]
    }
   ],
   "source": [
    "input_size = 784\n",
    "hidden_layer_sizes = [128,64]\n",
    "output_size = 10\n",
    "\n",
    "model = nn.Sequential(nn.Linear(input_size,hidden_layer_sizes[0]),nn.ReLU(),\n",
    "                     nn.Linear(hidden_layer_sizes[0],hidden_layer_sizes[1]), nn.ReLU(),\n",
    "                     nn.Linear(hidden_layer_sizes[1],output_size),nn.LogSoftmax(dim=1))\n",
    "criterion = nn.NLLLoss()\n",
    "# forward pass \n",
    "train_data_iter = iter(trainloader)\n",
    "images, labels = train_data_iter.next()\n",
    "images.resize_(images.shape[0],784)\n",
    "probabs = model.forward(images)\n",
    "\n",
    "Loss= criterion(probabs,labels)\n",
    "print(Loss)"
   ]
  },
  {
   "cell_type": "markdown",
   "metadata": {},
   "source": [
    "## Autograd and Losses"
   ]
  },
  {
   "cell_type": "code",
   "execution_count": 29,
   "metadata": {},
   "outputs": [
    {
     "name": "stdout",
     "output_type": "stream",
     "text": [
      "<PowBackward0 object at 0x000002074910CDC8>\n",
      "tensor([[0.5531, 0.3799],\n",
      "        [0.5773, 1.3026]])\n",
      "tensor([[0.5531, 0.3799],\n",
      "        [0.5773, 1.3026]], grad_fn=<MulBackward0>)\n",
      "None\n"
     ]
    }
   ],
   "source": [
    "# Here backward() can be applied only to the scalar outputs\n",
    "# for a scalar output gradient can be calculated with those variables which had requires_grad= True while their creation \n",
    "x = torch.randn(2,2,requires_grad= True)\n",
    "y = x**3\n",
    "z = torch.mean(y)\n",
    "\n",
    "print(y.grad_fn)\n",
    "z.backward()\n",
    "print(x.grad)\n",
    "print(.75* x**2)\n",
    "print(y.grad)"
   ]
  },
  {
   "cell_type": "code",
   "execution_count": 31,
   "metadata": {},
   "outputs": [
    {
     "name": "stdout",
     "output_type": "stream",
     "text": [
      "tensor(2.3037, grad_fn=<NllLossBackward>)\n",
      "Before backward pass: \n",
      " None\n",
      "After backward pass: \n",
      " tensor([[-9.2854e-04, -9.2854e-04, -9.2854e-04,  ..., -9.2854e-04,\n",
      "         -9.2854e-04, -9.2854e-04],\n",
      "        [ 4.6685e-03,  4.6685e-03,  4.6685e-03,  ...,  4.6685e-03,\n",
      "          4.6685e-03,  4.6685e-03],\n",
      "        [-6.4598e-05, -6.4598e-05, -6.4598e-05,  ..., -6.4598e-05,\n",
      "         -6.4598e-05, -6.4598e-05],\n",
      "        ...,\n",
      "        [ 1.9165e-03,  1.9165e-03,  1.9165e-03,  ...,  1.9165e-03,\n",
      "          1.9165e-03,  1.9165e-03],\n",
      "        [ 3.4352e-04,  3.4352e-04,  3.4352e-04,  ...,  3.4352e-04,\n",
      "          3.4352e-04,  3.4352e-04],\n",
      "        [-3.8625e-04, -3.8625e-04, -3.8625e-04,  ..., -3.8625e-04,\n",
      "         -3.8625e-04, -3.8625e-04]])\n"
     ]
    }
   ],
   "source": [
    "input_size = 784\n",
    "hidden_layer_sizes = [128,64]\n",
    "output_size = 10\n",
    "\n",
    "model = nn.Sequential(nn.Linear(input_size,hidden_layer_sizes[0]),nn.ReLU(),\n",
    "                     nn.Linear(hidden_layer_sizes[0],hidden_layer_sizes[1]), nn.ReLU(),\n",
    "                     nn.Linear(hidden_layer_sizes[1],output_size),nn.LogSoftmax(dim=1))\n",
    "criterion = nn.NLLLoss()\n",
    "# forward pass \n",
    "train_data_iter = iter(trainloader)\n",
    "images, labels = train_data_iter.next()\n",
    "images.resize_(images.shape[0],784)\n",
    "probabs = model.forward(images)\n",
    "\n",
    "Loss= criterion(probabs,labels)\n",
    "print(Loss)\n",
    "\n",
    "print('Before backward pass: \\n', model[0].weight.grad)\n",
    "\n",
    "Loss.backward()\n",
    "\n",
    "print('After backward pass: \\n', model[0].weight.grad)"
   ]
  },
  {
   "cell_type": "markdown",
   "metadata": {},
   "source": [
    "Gradient Package Optim"
   ]
  },
  {
   "cell_type": "code",
   "execution_count": 32,
   "metadata": {},
   "outputs": [],
   "source": [
    "from torch import optim\n",
    "\n",
    "optimizer = optim.SGD(model.parameters(),lr=0.01)  #Defining SGD optimizer object"
   ]
  },
  {
   "cell_type": "markdown",
   "metadata": {},
   "source": [
    "## Train the Network\n",
    "\n",
    "The steps for training/learning from a batch of data are described in the comments below:\n",
    "1. Clear the gradients of all optimized variables\n",
    "2. Forward pass: compute predicted outputs by passing inputs to the model\n",
    "3. Calculate the loss\n",
    "4. Backward pass: compute gradient of the loss with respect to model parameters\n",
    "5. Perform a single optimization step (parameter update)\n",
    "6. Update average training loss\n"
   ]
  },
  {
   "cell_type": "code",
   "execution_count": 36,
   "metadata": {},
   "outputs": [
    {
     "name": "stdout",
     "output_type": "stream",
     "text": [
      "Initial Weights Parameter containing:\n",
      "tensor([[-0.0235,  0.0190, -0.0145,  ...,  0.0086, -0.0213, -0.0144],\n",
      "        [-0.0163,  0.0047,  0.0180,  ...,  0.0116,  0.0338,  0.0325],\n",
      "        [ 0.0241, -0.0041, -0.0321,  ...,  0.0346,  0.0124,  0.0264],\n",
      "        ...,\n",
      "        [-0.0154, -0.0104,  0.0238,  ..., -0.0261,  0.0238,  0.0152],\n",
      "        [-0.0106,  0.0081, -0.0044,  ..., -0.0165,  0.0086, -0.0099],\n",
      "        [ 0.0156,  0.0314, -0.0050,  ..., -0.0012, -0.0312,  0.0052]],\n",
      "       requires_grad=True)\n",
      "Weights before update Parameter containing:\n",
      "tensor([[-0.0235,  0.0190, -0.0145,  ...,  0.0086, -0.0213, -0.0144],\n",
      "        [-0.0163,  0.0047,  0.0180,  ...,  0.0116,  0.0338,  0.0325],\n",
      "        [ 0.0241, -0.0041, -0.0321,  ...,  0.0346,  0.0124,  0.0264],\n",
      "        ...,\n",
      "        [-0.0154, -0.0104,  0.0238,  ..., -0.0261,  0.0238,  0.0152],\n",
      "        [-0.0106,  0.0081, -0.0044,  ..., -0.0165,  0.0086, -0.0099],\n",
      "        [ 0.0156,  0.0314, -0.0050,  ..., -0.0012, -0.0312,  0.0052]],\n",
      "       requires_grad=True)\n",
      "Gradients tensor([[-0.0045, -0.0045, -0.0045,  ..., -0.0045, -0.0045, -0.0045],\n",
      "        [ 0.0007,  0.0007,  0.0007,  ...,  0.0007,  0.0007,  0.0007],\n",
      "        [ 0.0031,  0.0031,  0.0031,  ...,  0.0031,  0.0031,  0.0031],\n",
      "        ...,\n",
      "        [ 0.0007,  0.0007,  0.0007,  ...,  0.0007,  0.0007,  0.0007],\n",
      "        [ 0.0005,  0.0005,  0.0005,  ...,  0.0005,  0.0005,  0.0005],\n",
      "        [-0.0013, -0.0013, -0.0013,  ..., -0.0013, -0.0013, -0.0013]])\n",
      "Weights after update Parameter containing:\n",
      "tensor([[-0.0235,  0.0190, -0.0145,  ...,  0.0086, -0.0213, -0.0144],\n",
      "        [-0.0163,  0.0047,  0.0180,  ...,  0.0116,  0.0338,  0.0325],\n",
      "        [ 0.0241, -0.0041, -0.0321,  ...,  0.0346,  0.0124,  0.0264],\n",
      "        ...,\n",
      "        [-0.0154, -0.0104,  0.0238,  ..., -0.0261,  0.0238,  0.0152],\n",
      "        [-0.0106,  0.0081, -0.0044,  ..., -0.0165,  0.0086, -0.0099],\n",
      "        [ 0.0156,  0.0314, -0.0050,  ..., -0.0012, -0.0312,  0.0052]],\n",
      "       requires_grad=True)\n"
     ]
    }
   ],
   "source": [
    "\n",
    "\n",
    "#Step 0: Define the model \n",
    "input_size = 784\n",
    "hidden_layer_sizes = [128,64]\n",
    "output_size = 10\n",
    "\n",
    "model = nn.Sequential(nn.Linear(input_size,hidden_layer_sizes[0]),nn.ReLU(),\n",
    "                     nn.Linear(hidden_layer_sizes[0],hidden_layer_sizes[1]), nn.ReLU(),\n",
    "                     nn.Linear(hidden_layer_sizes[1],output_size),nn.LogSoftmax(dim=1))\n",
    "criterion = nn.NLLLoss()\n",
    "optimizer = optim.SGD(model.parameters(),lr=0.01)  #Defining SGD optimizer object\n",
    "print('Initial Weights',model[0].weight)\n",
    "\n",
    "#Step 1: Make a forward pass\n",
    "data_iter = iter(trainloader)\n",
    "images, labels = data_iter.next()\n",
    "images.resize_(images.shape[0],784)\n",
    "\n",
    "optimizer.zero_grad()  # very important to make the gradients zero before every new batch is processed\n",
    "logits = model.forward(images)\n",
    "\n",
    "# Step2: Calculate Loss\n",
    "Loss = criterion(logits, labels)\n",
    "\n",
    "print('Weights before update',model[0].weight)\n",
    "# Step3: Calculate Gradients\n",
    "Loss.backward()\n",
    "\n",
    "print('Gradients',model[0].weight.grad)\n",
    "# Step4: Update Gradients \n",
    "optimizer.step()\n",
    "\n",
    "print('Weights after update',model[0].weight)\n",
    "\n",
    "\n",
    "\n",
    "\n"
   ]
  },
  {
   "cell_type": "markdown",
   "metadata": {},
   "source": [
    "Exercise: Implement the training pass for our network. If you implemented it correctly, you should see the training loss drop with each epoch."
   ]
  },
  {
   "cell_type": "code",
   "execution_count": 42,
   "metadata": {},
   "outputs": [
    {
     "name": "stdout",
     "output_type": "stream",
     "text": [
      "Avg Training Loss for epoch 0 1.9049318448058579\n",
      "Avg Training Loss for epoch 1 0.8234159511162528\n",
      "Avg Training Loss for epoch 2 0.5218419579745356\n",
      "Avg Training Loss for epoch 3 0.4321939013342359\n",
      "Avg Training Loss for epoch 4 0.3870903822595377\n",
      "Avg Training Loss for epoch 5 0.358802064490725\n",
      "Avg Training Loss for epoch 6 0.33895225480580127\n",
      "Avg Training Loss for epoch 7 0.32355648320493924\n",
      "Avg Training Loss for epoch 8 0.3110601923851443\n",
      "Avg Training Loss for epoch 9 0.3000637845062752\n",
      "Avg Training Loss for epoch 10 0.2904131143951594\n",
      "Avg Training Loss for epoch 11 0.2816364640858509\n",
      "Avg Training Loss for epoch 12 0.27332965364413603\n",
      "Avg Training Loss for epoch 13 0.2657540693982387\n",
      "Avg Training Loss for epoch 14 0.2586448735464166\n"
     ]
    }
   ],
   "source": [
    "# Defining the model \n",
    "model = nn.Sequential(nn.Linear(784, 128),\n",
    "                      nn.ReLU(),\n",
    "                      nn.Linear(128, 64),\n",
    "                      nn.ReLU(),\n",
    "                      nn.Linear(64, 10),\n",
    "                      nn.LogSoftmax(dim=1))\n",
    "\n",
    "criterion = nn.NLLLoss()\n",
    "optimizer = optim.SGD(model.parameters(), lr=0.003)\n",
    "\n",
    "# Loops for epochs\n",
    "Epoch=15\n",
    "for i in range(Epoch):\n",
    "    running_loss=0\n",
    "    for images,labels in trainloader:\n",
    "        optimizer.zero_grad()\n",
    "        images = images.view(images.shape[0],-1)\n",
    "        scores = model.forward(images)\n",
    "        \n",
    "        Loss = criterion(scores,labels)\n",
    "        \n",
    "        Loss.backward()\n",
    "        running_loss += Loss.item()\n",
    "        optimizer.step()\n",
    "    print(\"Avg Training Loss for epoch\",i,running_loss/len(trainloader))    "
   ]
  },
  {
   "cell_type": "code",
   "execution_count": 53,
   "metadata": {},
   "outputs": [
    {
     "name": "stdout",
     "output_type": "stream",
     "text": [
      "tensor(8)\n"
     ]
    },
    {
     "data": {
      "image/png": "[encoded data removed]",
      "text/plain": [
       "<Figure size 432x288 with 1 Axes>"
      ]
     },
     "metadata": {
      "image/png": {
       "height": 248,
       "width": 251
      },
      "needs_background": "light"
     },
     "output_type": "display_data"
    }
   ],
   "source": [
    "# Checking the predictions\n",
    "%matplotlib inline\n",
    "import helper\n",
    "\n",
    "\n",
    "dataiter = iter(trainloader)\n",
    "images,labels = next(dataiter)\n",
    "img = images[55].view(1,784)\n",
    "\n",
    "# Turn off gradients to speed up this part\n",
    "with torch.no_grad():\n",
    "    logps = model(img)  # I used model.forward here\n",
    "    \n",
    "# Output of the network are log-probabilities, need to take exponential for probabilities\n",
    "ps = torch.exp(logps)\n",
    "#helper.view_classify(img.view(1, 28, 28), ps)\n",
    "plt.imshow(images[55].reshape(28,28))\n",
    "print(torch.argmax(ps))"
   ]
  },
  {
   "cell_type": "code",
   "execution_count": null,
   "metadata": {},
   "outputs": [],
   "source": []
  }
 ],
 "metadata": {
  "kernelspec": {
   "display_name": "Python 3",
   "language": "python",
   "name": "python3"
  },
  "language_info": {
   "codemirror_mode": {
    "name": "ipython",
    "version": 3
   },
   "file_extension": ".py",
   "mimetype": "text/x-python",
   "name": "python",
   "nbconvert_exporter": "python",
   "pygments_lexer": "ipython3",
   "version": "3.7.8"
  }
 },
 "nbformat": 4,
 "nbformat_minor": 4
}
